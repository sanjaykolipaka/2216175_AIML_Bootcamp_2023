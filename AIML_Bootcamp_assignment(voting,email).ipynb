{
  "nbformat": 4,
  "nbformat_minor": 0,
  "metadata": {
    "colab": {
      "provenance": [],
      "authorship_tag": "ABX9TyMVgKh36a03wKGbadsY787k",
      "include_colab_link": true
    },
    "kernelspec": {
      "name": "python3",
      "display_name": "Python 3"
    },
    "language_info": {
      "name": "python"
    }
  },
  "cells": [
    {
      "cell_type": "markdown",
      "metadata": {
        "id": "view-in-github",
        "colab_type": "text"
      },
      "source": [
        "<a href=\"https://colab.research.google.com/github/sanjaykolipaka/2216175_AIML_Bootcamp_2023/blob/main/AIML_Bootcamp_assignment(voting%2Cemail).ipynb\" target=\"_parent\"><img src=\"https://colab.research.google.com/assets/colab-badge.svg\" alt=\"Open In Colab\"/></a>"
      ]
    },
    {
      "cell_type": "code",
      "execution_count": null,
      "metadata": {
        "colab": {
          "base_uri": "https://localhost:8080/"
        },
        "id": "j9h7Q7Tbm42t",
        "outputId": "e976e695-fe36-4c91-eb97-60a567d62797"
      },
      "outputs": [
        {
          "output_type": "stream",
          "name": "stdout",
          "text": [
            "ENTER  AGE:14\n",
            "ERROR RAISED\n",
            "details checked\n"
          ]
        }
      ],
      "source": [
        "class NOTELIGIBLETOVOTE(Exception):\n",
        "  def __str__(self):\n",
        "      return \"ERROR RAISED\"\n",
        "voter_age=int(input(\"ENTER  AGE:\"))\n",
        "try:\n",
        "   if voter_age<18:\n",
        "      raise NOTELIGIBLETOVOTE\n",
        "   else:\n",
        "      print(\"Eligible to vote\")\n",
        "except NOTELIGIBLETOVOTE as i:\n",
        "   print(i)\n",
        "print(\"details checked\")"
      ]
    },
    {
      "cell_type": "code",
      "source": [
        "\n",
        "import re\n",
        "email=input(\"ENTER EMAIL:\")\n",
        "print(re.search(r'\\b[A-Za-z0-9._%+-]+@[A-Za-z0-9.-]+\\.[A-Z|a-z]{2,}\\b',email).group())"
      ],
      "metadata": {
        "colab": {
          "base_uri": "https://localhost:8080/"
        },
        "id": "cc9pwQXZncld",
        "outputId": "2f1bd639-f872-4b21-cc6c-925de80fb1c0"
      },
      "execution_count": null,
      "outputs": [
        {
          "output_type": "stream",
          "name": "stdout",
          "text": [
            "ENTER EMAIL:sanjaykolipaka8796@gmail.com\n",
            "sanjaykolipaka8796@gmail.com\n"
          ]
        }
      ]
    }
  ]
}